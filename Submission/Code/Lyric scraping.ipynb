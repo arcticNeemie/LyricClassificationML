{
 "cells": [
  {
   "cell_type": "code",
   "execution_count": null,
   "metadata": {},
   "outputs": [],
   "source": [
    "import re\n",
    "import requests\n",
    "# import nltk\n",
    "from bs4 import BeautifulSoup\n",
    "import csv\n",
    "import sys\n",
    "import lyricsgenius\n",
    "api = lyricsgenius.Genius(\"4vg0MLqn8o-EMqTCeJU4qw39V7bBGahNtsGp2Qe5uQV2ddoA97rFTneXOMERa2Cj\")\n",
    "api.remove_section_headers = True\n",
    "api.excluded_terms = [\"(Remix)\", \"(Live)\", \"(Instrumental) \"]"
   ]
  },
  {
   "cell_type": "code",
   "execution_count": null,
   "metadata": {},
   "outputs": [],
   "source": [
    "rock = ['Def Leppard', 'Nicklback', 'Bon Jovi', 'Linkin Park', 'Arctic Monkeys', 'Eagles','Led Zeppelin', 'The Beatles',\n",
    "        'Pink Floyd','Metallica', 'AC/DC', 'The Rolling Stones', 'Nirvana', 'The Who', 'Guns n Roses', 'Black Sabbath', \n",
    "        'Aerosmith', 'Red Hot Chili Peppers', 'The Doors', 'Foo fighters','U2', 'Green day', 'Creed','Radiohead', 'Deep purple']\n",
    "\n",
    "rap = ['Lil Jon', 'Eminem', 'Tupac', 'Notorious B.I.G','Nas','Jay-Z', 'Dr. Dre', 'Kendrick Lamar', 'Ice Cube', 'Snoop Dogg', \n",
    "       'Kanye West', '50 cent', 'Nicki Minaj', 'Cardi B', 'Drake', 'Lil Wayne', 'Travis Scott', 'J Cole', 'Future',\n",
    "      'T.I.', 'Sean Combs', 'Offset', 'Chance the Rappper', 'ASAP Rocky', 'Wiz Khalifa'] \n",
    "\n",
    "pop = ['Michael Jackson', 'P!nk', 'Katy Perry','Miley Cyrus', 'Alicia Keys', 'Sam Smith', 'Demi Lovato', 'Mariah Carey',\n",
    "       'Christina Aguilera', 'Chris Brown', 'Usher', 'Gwen Stefani', 'Justin Timberlake','Beyonce', 'Ariana Grande',\n",
    "       'Justin Bieber', 'Lady Gaga', 'Rihanna', 'Bruno Mars', 'Taylor Swift', 'Selena Gomez', 'Madonna', 'Britney Spears',\n",
    "       'Justin Timberlake', 'Ed Sheeren'] \n",
    "\n",
    "country = ['Luke Bryan', 'Shania Twain', 'Kenny Rogers', 'Garth Brooks', 'George Strait', 'Brad Paisly', 'Dolly Parton',\n",
    "           'Alabama', 'Tim McGraw', 'Blake Shelton', 'Miranda Lambert', 'Carrie Underwood', 'Keith Urban', 'George Strait',\n",
    "           'Kacey Musgraves', 'Faith Hill', 'Jason Aldean', 'Waylon Jennings', 'Alan Jackson', 'Patsy Cline', 'Kenny Rogers',\n",
    "          'Lady Antebellum', 'Keith Whitley', 'Sam Hunt', 'Buck Owens']\n",
    "\n",
    "popExtra = ['Miley Cyrus']\n",
    "rockExtra = ['Neil Young']\n",
    "rapExtra = ['Migos']\n",
    "countryExtra = ['Brett Eldredge']"
   ]
  },
  {
   "cell_type": "code",
   "execution_count": null,
   "metadata": {
    "scrolled": true
   },
   "outputs": [],
   "source": [
    "fields=['song', 'artist', 'lyrics']\n",
    "with open('rock.csv', 'w', encoding='utf-8') as writeFile:\n",
    "    writer = csv.writer(writeFile, lineterminator = '\\n')\n",
    "    writer.writerow(fields)\n",
    "    for name in rock:\n",
    "        artist = api.search_artist(name, max_songs=1)\n",
    "        \n",
    "        for i in range (0, len(artist.songs)):\n",
    "            title = curr.title\n",
    "            art = curr.artist\n",
    "            lyrics = curr.lyrics\n",
    "            \n",
    "            newLyrics = lyrics.replace('\\n','~')\n",
    "            newLyrics = newLyrics.replace(',','')\n",
    "            newLyrics = newLyrics.replace('\"','')\n",
    "            Lyrics = newLyrics.lower()\n",
    "            \n",
    "            newTitle = title.replace('\\n', '')\n",
    "            newTitle = newTitle.replace('/', '')\n",
    "            newTitle = newTitle.replace(',', '')\n",
    "            newTitle = newTitle.replace('\"', '')\n",
    "            Title = newTitle.lower()\n",
    "            \n",
    "            newArtist = art.replace('\\n', '')\n",
    "            newArtist = newArtist.replace(',', '')\n",
    "            newArtist = newArtist.replace('\"', '')\n",
    "            Artist = newArtist.lower()\n",
    "            writeFile.write('{}, {}, {}\\n'.format(Title, Artist, Lyrics)) \n",
    "\n",
    "    writeFile.close()\n"
   ]
  },
  {
   "cell_type": "code",
   "execution_count": null,
   "metadata": {},
   "outputs": [],
   "source": []
  }
 ],
 "metadata": {
  "kernelspec": {
   "display_name": "Python 3",
   "language": "python",
   "name": "python3"
  },
  "language_info": {
   "codemirror_mode": {
    "name": "ipython",
    "version": 3
   },
   "file_extension": ".py",
   "mimetype": "text/x-python",
   "name": "python",
   "nbconvert_exporter": "python",
   "pygments_lexer": "ipython3",
   "version": "3.7.2"
  }
 },
 "nbformat": 4,
 "nbformat_minor": 2
}

{
 "cells": [
  {
   "cell_type": "markdown",
   "metadata": {},
   "source": [
    "## KNN implementation to classify song genre \n",
    "### Tasneem Abed (1408535)\n",
    "#### COMS4030A project 2019"
   ]
  },
  {
   "cell_type": "markdown",
   "metadata": {},
   "source": [
    "In this notebook, a dataset containing 3000 instances of songs and their lyrics is used to train a K Nearest Neighbour algorithm in order to predict the genre of the song. There are 4 genres, namley country, pop, rap and rock. The data is split into 80% for training and 20% for testing. There are 5 features that are used: Number of words per line(WPL), number of unique words per line(UWPL), token ration which is the ratio of the unique words to the total number of words(Token ratio), Mean word length, and the total number of words in the song(Total)."
   ]
  },
  {
   "cell_type": "code",
   "execution_count": 1,
   "metadata": {},
   "outputs": [],
   "source": [
    "import pandas as pd\n",
    "import matplotlib.pyplot as plt\n",
    "import numpy as np\n",
    "import math\n",
    "from sklearn.model_selection import train_test_split\n",
    "import operator\n",
    "\n",
    "%matplotlib inline"
   ]
  },
  {
   "cell_type": "code",
   "execution_count": 2,
   "metadata": {},
   "outputs": [],
   "source": [
    "#Load dataset\n",
    "\n",
    "data = pd.read_csv(\"FinalNorm.csv\")"
   ]
  },
  {
   "cell_type": "code",
   "execution_count": 3,
   "metadata": {},
   "outputs": [],
   "source": [
    "train = data.copy()"
   ]
  },
  {
   "cell_type": "code",
   "execution_count": 4,
   "metadata": {},
   "outputs": [],
   "source": [
    "#Drop unnecessary columns\n",
    "trainData = train.drop(['song','artist','lyrics'], axis=1);"
   ]
  },
  {
   "cell_type": "code",
   "execution_count": 5,
   "metadata": {},
   "outputs": [
    {
     "data": {
      "text/plain": [
       "(1200, 6)"
      ]
     },
     "execution_count": 5,
     "metadata": {},
     "output_type": "execute_result"
    }
   ],
   "source": [
    "leftover, newtraining = train_test_split(trainData, test_size=0.4)\n",
    "newtraining.shape"
   ]
  },
  {
   "cell_type": "code",
   "execution_count": 6,
   "metadata": {},
   "outputs": [
    {
     "data": {
      "text/html": [
       "<div>\n",
       "<style scoped>\n",
       "    .dataframe tbody tr th:only-of-type {\n",
       "        vertical-align: middle;\n",
       "    }\n",
       "\n",
       "    .dataframe tbody tr th {\n",
       "        vertical-align: top;\n",
       "    }\n",
       "\n",
       "    .dataframe thead th {\n",
       "        text-align: right;\n",
       "    }\n",
       "</style>\n",
       "<table border=\"1\" class=\"dataframe\">\n",
       "  <thead>\n",
       "    <tr style=\"text-align: right;\">\n",
       "      <th></th>\n",
       "      <th>WPL</th>\n",
       "      <th>Unique WPL</th>\n",
       "      <th>Token ration</th>\n",
       "      <th>Mean word length</th>\n",
       "      <th>Total</th>\n",
       "      <th>genre</th>\n",
       "    </tr>\n",
       "  </thead>\n",
       "  <tbody>\n",
       "    <tr>\n",
       "      <th>580</th>\n",
       "      <td>0.416667</td>\n",
       "      <td>0.5</td>\n",
       "      <td>0.574803</td>\n",
       "      <td>0.422451</td>\n",
       "      <td>0.055633</td>\n",
       "      <td>country</td>\n",
       "    </tr>\n",
       "    <tr>\n",
       "      <th>438</th>\n",
       "      <td>0.583333</td>\n",
       "      <td>0.6</td>\n",
       "      <td>0.354167</td>\n",
       "      <td>0.400609</td>\n",
       "      <td>0.130274</td>\n",
       "      <td>country</td>\n",
       "    </tr>\n",
       "    <tr>\n",
       "      <th>1697</th>\n",
       "      <td>0.416667</td>\n",
       "      <td>0.4</td>\n",
       "      <td>0.384615</td>\n",
       "      <td>0.441190</td>\n",
       "      <td>0.261938</td>\n",
       "      <td>rap</td>\n",
       "    </tr>\n",
       "    <tr>\n",
       "      <th>757</th>\n",
       "      <td>0.416667</td>\n",
       "      <td>0.3</td>\n",
       "      <td>0.207675</td>\n",
       "      <td>0.348824</td>\n",
       "      <td>0.202133</td>\n",
       "      <td>pop</td>\n",
       "    </tr>\n",
       "    <tr>\n",
       "      <th>2618</th>\n",
       "      <td>0.083333</td>\n",
       "      <td>0.1</td>\n",
       "      <td>0.219858</td>\n",
       "      <td>0.230786</td>\n",
       "      <td>0.062123</td>\n",
       "      <td>rock</td>\n",
       "    </tr>\n",
       "  </tbody>\n",
       "</table>\n",
       "</div>"
      ],
      "text/plain": [
       "           WPL  Unique WPL  Token ration  Mean word length     Total    genre\n",
       "580   0.416667         0.5      0.574803          0.422451  0.055633  country\n",
       "438   0.583333         0.6      0.354167          0.400609  0.130274  country\n",
       "1697  0.416667         0.4      0.384615          0.441190  0.261938      rap\n",
       "757   0.416667         0.3      0.207675          0.348824  0.202133      pop\n",
       "2618  0.083333         0.1      0.219858          0.230786  0.062123     rock"
      ]
     },
     "execution_count": 6,
     "metadata": {},
     "output_type": "execute_result"
    }
   ],
   "source": [
    "newtraining.head()"
   ]
  },
  {
   "cell_type": "code",
   "execution_count": 41,
   "metadata": {},
   "outputs": [],
   "source": [
    "#Euclidean distance\n",
    "def distanceEuclid(data1, data2, length):\n",
    "    d = 0\n",
    "    for x in range(length-1):\n",
    "        d += np.square(data1[x] - data2[x])\n",
    "    return(np.sqrt(d))"
   ]
  },
  {
   "cell_type": "code",
   "execution_count": null,
   "metadata": {},
   "outputs": [],
   "source": []
  },
  {
   "cell_type": "code",
   "execution_count": 42,
   "metadata": {},
   "outputs": [],
   "source": [
    "def KNN(train, test, K):\n",
    "    distances = {}\n",
    "    sort = {}\n",
    "    length = test.shape[1] #Note that this will be number of features excluding genre\n",
    "    \n",
    "    for x in range(len(train)):\n",
    "        dist = distanceEuclid(test, train.iloc[x], length)\n",
    "        \n",
    "        distances[x] = dist[0]\n",
    "    \n",
    "    sortedDistance = sorted(distances.items(), key=operator.itemgetter(1))\n",
    "    \n",
    "    neighbours = []\n",
    "    for x in range(K):\n",
    "        neighbours.append(sortedDistance[x][0])\n",
    "    \n",
    "    classVotes = {}\n",
    "    \n",
    "    for x in range(len(neighbours)):\n",
    "        response = train.iloc[neighbours[x]][-1]\n",
    "        \n",
    "        if response in classVotes:\n",
    "            classVotes[response] += 1\n",
    "        else:\n",
    "            classVotes[response] = 1\n",
    "            \n",
    "    sortedVotes = sorted(classVotes.items(), key=operator.itemgetter(1), reverse=True)\n",
    "    return (sortedVotes[0][0], neighbours)"
   ]
  },
  {
   "cell_type": "code",
   "execution_count": 48,
   "metadata": {},
   "outputs": [
    {
     "name": "stdout",
     "output_type": "stream",
     "text": [
      "0 :\n",
      "0 : rock rock\n",
      "1 : country country\n",
      "2 : pop pop\n",
      "3 : pop pop\n",
      "4 : pop country\n",
      "Accuracy:  80.0 %\n",
      "Testing error:  0.2\n"
     ]
    }
   ],
   "source": [
    "#Run\n",
    "predictions = []\n",
    "g = []\n",
    "\n",
    "i = 0\n",
    "while i < 5:\n",
    "    print(i, \":\")\n",
    "    training, testing = train_test_split(newtraining, test_size=0.2)\n",
    "    tester = testing.iloc[0:5].copy()\n",
    "    for i in range(0, tester.shape[0]):\n",
    "        g.append(tester.genre.iloc[i])\n",
    "    acc = 0\n",
    "    j1 = 0\n",
    "    for row in tester.iterrows():\n",
    "        temp = []\n",
    "        index, data = row\n",
    "        temp.append(data.tolist())\n",
    "        y = data[-1]\n",
    "        currTest = pd.DataFrame(temp)\n",
    "        result, neighb = KNN(training, currTest, 7)\n",
    "        predictions.append(result)\n",
    "        print(j1, \":\",y, result)\n",
    "        j1 += 1\n",
    "        if (result == y):\n",
    "            acc += 1\n",
    "    accuracy = (acc/tester.shape[0])*100\n",
    "    print(\"Accuracy: \", accuracy, \"%\")\n",
    "    file5 = open(\"KNNAccuracy.txt\",\"a\") #append mode\n",
    "    file5.write(str(accuracy))\n",
    "    file5.write(\"\\n\")\n",
    "    file5.close()\n",
    "    class_error = np.sum(g != predictions) / tester.shape[0] \n",
    "    print(\"Testing error: \", class_error)\n",
    "    i += 1\n",
    "#     break"
   ]
  },
  {
   "cell_type": "code",
   "execution_count": 47,
   "metadata": {},
   "outputs": [
    {
     "name": "stdout",
     "output_type": "stream",
     "text": [
      "0\n",
      "(5, 5)\n",
      "0 : country country\n",
      "1 : country rap\n",
      "2 : rock rock\n",
      "3 : rock country\n",
      "4 : rap country\n",
      "Accuracy1:  40.0 %\n"
     ]
    }
   ],
   "source": [
    "#Remove WPL and run for 100 tests\n",
    "\n",
    "\n",
    "predictions1 = []\n",
    "i = 0\n",
    "while i < 5:\n",
    "    print(i)\n",
    "    training, testing = train_test_split(newtraining, test_size=0.2)\n",
    "    training1 = training.drop(['Total'], axis=1)\n",
    "    testing1 = testing.drop(['Total'], axis=1)\n",
    "    tester1 = testing1.iloc[0:5].copy()\n",
    "    if (i == 0):\n",
    "        print(tester1.shape)\n",
    "    acc1 = 0\n",
    "    acc3 = 0\n",
    "    acc5 = 0\n",
    "    j = 0\n",
    "    for row in tester1.iterrows():\n",
    "        temp = []\n",
    "        index, data = row\n",
    "        temp.append(data.tolist())\n",
    "        y = data[-1]\n",
    "        currTest = pd.DataFrame(temp)\n",
    "        result1, neighb1 = KNN(training1, currTest, 5)\n",
    "        predictions1.append(result1)\n",
    "        print(j, \":\",y, result1)\n",
    "        j += 1\n",
    "        if (result1 == y):\n",
    "            acc1 += 1\n",
    "    accuracy1 = (acc1/tester1.shape[0])*100\n",
    "    print(\"Accuracy1: \", accuracy1, \"%\")\n",
    "    \n",
    "    file1 = open(\"Remove.txt\",\"a\") #append mode\n",
    "    file1.write(str(accuracy1))\n",
    "    file1.write(\"\\n\")\n",
    "    file1.close()\n",
    "    \n",
    "    i += 1\n",
    "#     break\n"
   ]
  },
  {
   "cell_type": "code",
   "execution_count": 49,
   "metadata": {},
   "outputs": [
    {
     "name": "stdout",
     "output_type": "stream",
     "text": [
      "3 0 1 1\n"
     ]
    }
   ],
   "source": [
    "co = 0\n",
    "po = 0\n",
    "ra = 0\n",
    "ro = 0\n",
    "for k in range(0,len(predictions1)):\n",
    "    if (predictions1[k] == 'country'):\n",
    "        co += 1\n",
    "    elif (predictions1[k] == 'pop'):\n",
    "        po += 1\n",
    "    elif (predictions1[k] == 'rap'):\n",
    "        ra += 1\n",
    "    elif (predictions1[k] == 'rock'):\n",
    "        ro += 1\n",
    "print(co, po, ra, ro)"
   ]
  }
 ],
 "metadata": {
  "kernelspec": {
   "display_name": "Python 3",
   "language": "python",
   "name": "python3"
  },
  "language_info": {
   "codemirror_mode": {
    "name": "ipython",
    "version": 3
   },
   "file_extension": ".py",
   "mimetype": "text/x-python",
   "name": "python",
   "nbconvert_exporter": "python",
   "pygments_lexer": "ipython3",
   "version": "3.7.2"
  }
 },
 "nbformat": 4,
 "nbformat_minor": 2
}

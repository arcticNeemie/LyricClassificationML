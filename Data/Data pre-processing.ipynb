{
 "cells": [
  {
   "cell_type": "code",
   "execution_count": 15,
   "metadata": {},
   "outputs": [],
   "source": [
    "import numpy as np\n",
    "import pandas as pd\n",
    "import math\n",
    "from matplotlib import pyplot as plt"
   ]
  },
  {
   "cell_type": "code",
   "execution_count": 35,
   "metadata": {
    "scrolled": true
   },
   "outputs": [],
   "source": [
    "data = pd.read_csv(\"FinalData.csv\")"
   ]
  },
  {
   "cell_type": "code",
   "execution_count": 36,
   "metadata": {},
   "outputs": [
    {
     "data": {
      "text/html": [
       "<div>\n",
       "<style scoped>\n",
       "    .dataframe tbody tr th:only-of-type {\n",
       "        vertical-align: middle;\n",
       "    }\n",
       "\n",
       "    .dataframe tbody tr th {\n",
       "        vertical-align: top;\n",
       "    }\n",
       "\n",
       "    .dataframe thead th {\n",
       "        text-align: right;\n",
       "    }\n",
       "</style>\n",
       "<table border=\"1\" class=\"dataframe\">\n",
       "  <thead>\n",
       "    <tr style=\"text-align: right;\">\n",
       "      <th></th>\n",
       "      <th>song</th>\n",
       "      <th>artist</th>\n",
       "      <th>lyrics</th>\n",
       "    </tr>\n",
       "  </thead>\n",
       "  <tbody>\n",
       "    <tr>\n",
       "      <th>0</th>\n",
       "      <td>most people are good</td>\n",
       "      <td>luke bryan</td>\n",
       "      <td>i believe kids oughta stay kids as long as th...</td>\n",
       "    </tr>\n",
       "    <tr>\n",
       "      <th>1</th>\n",
       "      <td>that's my kind of night</td>\n",
       "      <td>luke bryan</td>\n",
       "      <td>i got that real good feel good stuff~up under...</td>\n",
       "    </tr>\n",
       "    <tr>\n",
       "      <th>2</th>\n",
       "      <td>light it up</td>\n",
       "      <td>luke bryan</td>\n",
       "      <td>i open my eyes reach for the phone~not a word...</td>\n",
       "    </tr>\n",
       "    <tr>\n",
       "      <th>3</th>\n",
       "      <td>play it again</td>\n",
       "      <td>luke bryan</td>\n",
       "      <td>she was sittin' all alone over on the tailgat...</td>\n",
       "    </tr>\n",
       "    <tr>\n",
       "      <th>4</th>\n",
       "      <td>to the moon and back</td>\n",
       "      <td>luke bryan</td>\n",
       "      <td>through the dirt and the gravel~through the y...</td>\n",
       "    </tr>\n",
       "  </tbody>\n",
       "</table>\n",
       "</div>"
      ],
      "text/plain": [
       "                      song       artist  \\\n",
       "0     most people are good   luke bryan   \n",
       "1  that's my kind of night   luke bryan   \n",
       "2              light it up   luke bryan   \n",
       "3            play it again   luke bryan   \n",
       "4     to the moon and back   luke bryan   \n",
       "\n",
       "                                              lyrics  \n",
       "0   i believe kids oughta stay kids as long as th...  \n",
       "1   i got that real good feel good stuff~up under...  \n",
       "2   i open my eyes reach for the phone~not a word...  \n",
       "3   she was sittin' all alone over on the tailgat...  \n",
       "4   through the dirt and the gravel~through the y...  "
      ]
     },
     "execution_count": 36,
     "metadata": {},
     "output_type": "execute_result"
    }
   ],
   "source": [
    "data.head()"
   ]
  },
  {
   "cell_type": "code",
   "execution_count": 38,
   "metadata": {},
   "outputs": [],
   "source": [
    "data['genre'] = 0"
   ]
  },
  {
   "cell_type": "code",
   "execution_count": 39,
   "metadata": {},
   "outputs": [
    {
     "name": "stderr",
     "output_type": "stream",
     "text": [
      "c:\\users\\user\\appdata\\local\\programs\\python\\python37-32\\lib\\site-packages\\pandas\\core\\indexing.py:190: SettingWithCopyWarning: \n",
      "A value is trying to be set on a copy of a slice from a DataFrame\n",
      "\n",
      "See the caveats in the documentation: http://pandas.pydata.org/pandas-docs/stable/indexing.html#indexing-view-versus-copy\n",
      "  self._setitem_with_indexer(indexer, value)\n"
     ]
    }
   ],
   "source": [
    "for i in range(0, data.shape[0]):\n",
    "    if(i>= 0 and i<750):\n",
    "        data.genre.loc[i] = 'country'\n",
    "    elif (i>=750 and i<1500):\n",
    "        data.genre.loc[i] = 'pop'\n",
    "    elif (i>=1500 and i<2250):\n",
    "        data.genre.loc[i] = 'rap'\n",
    "    elif (i>=2250 and i<=2999):\n",
    "        data.genre.loc[i] = 'rock'"
   ]
  },
  {
   "cell_type": "code",
   "execution_count": 40,
   "metadata": {},
   "outputs": [],
   "source": [
    "for i in range(0, data.shape[0]):\n",
    "    data.lyrics.loc[i] = data.lyrics.loc[i].replace('.', '') \n",
    "    data.lyrics.loc[i] = data.lyrics.loc[i].replace('-', '')\n",
    "    data.lyrics.loc[i] = data.lyrics.loc[i].replace(';', '')\n",
    "    data.lyrics.loc[i] = data.lyrics.loc[i].replace(')', '')\n",
    "    data.lyrics.loc[i] = data.lyrics.loc[i].replace('(', '')\n",
    "    data.lyrics.loc[i] = data.lyrics.loc[i].replace('!', '')\n",
    "    data.lyrics.loc[i] = data.lyrics.loc[i].replace('?', '')\n",
    "    data.lyrics.loc[i] = data.lyrics.loc[i].replace('  ', '')\n",
    "    data.lyrics.loc[i] = data.lyrics.loc[i].replace('+', '')\n",
    "    data.lyrics.loc[i] = data.lyrics.loc[i].replace(\"'\", '')\n",
    "    data.lyrics.loc[i] = data.lyrics.loc[i].replace('/', '')\n",
    "    data.lyrics.loc[i] = data.lyrics.loc[i].replace(':', '')\n",
    "    data.lyrics.loc[i] = data.lyrics.loc[i].replace('~~', '~')"
   ]
  },
  {
   "cell_type": "code",
   "execution_count": 41,
   "metadata": {},
   "outputs": [
    {
     "data": {
      "text/plain": [
       "(3000,)"
      ]
     },
     "execution_count": 41,
     "metadata": {},
     "output_type": "execute_result"
    }
   ],
   "source": [
    "#WPL - Average number of words per line\n",
    "#Unique PL - Unique words per line\n",
    "\n",
    "wpl = np.empty((data.shape[0],0),int)\n",
    "upl = np.empty((data.shape[0],0),int)\n",
    "for i in range(0,data.shape[0]):\n",
    "    new = data.iloc[i]['lyrics'].split('~')\n",
    "    count = np.empty((len(new),0), int)\n",
    "    countUW = np.empty((len(new),0), int)\n",
    "    for j in range(0, len(new)):\n",
    "        count = np.append(count,len(new[j].split()))\n",
    "        countUW = np.append(countUW, len(set(new[j].split())))\n",
    "    wpl = np.append(wpl, math.ceil(count.mean()))\n",
    "    upl = np.append(upl, math.ceil(countUW.mean()))\n",
    "upl.shape"
   ]
  },
  {
   "cell_type": "code",
   "execution_count": 42,
   "metadata": {},
   "outputs": [
    {
     "data": {
      "text/plain": [
       "(3000,)"
      ]
     },
     "execution_count": 42,
     "metadata": {},
     "output_type": "execute_result"
    }
   ],
   "source": [
    "#Token ratio - Ratio of unique words to total number of words\n",
    "token = np.empty((data.shape[0],0),float)\n",
    "for i in range (0, data.shape[0]):\n",
    "    new = data.iloc[i]['lyrics'].replace('~',' ')\n",
    "    total = len(new.split())\n",
    "    if (total == 0):\n",
    "        print(i)\n",
    "        print(total)\n",
    "    unique = len(set(new.split()))\n",
    "    token = np.append(token, (unique/total))\n",
    "token.shape"
   ]
  },
  {
   "cell_type": "code",
   "execution_count": 43,
   "metadata": {
    "scrolled": false
   },
   "outputs": [
    {
     "data": {
      "text/plain": [
       "(3000,)"
      ]
     },
     "execution_count": 43,
     "metadata": {},
     "output_type": "execute_result"
    }
   ],
   "source": [
    "#Mean WL - Average number of characters in a word\n",
    "mwl = np.empty((data.shape[0],0), float)\n",
    "for i in range (0, data.shape[0]):\n",
    "    new = data.iloc[i]['lyrics'].replace('~',' ')\n",
    "    wl = np.empty((len(new),0), int)\n",
    "    total = new.split()\n",
    "    for j in range(0, len(total)):\n",
    "        word = total[j].replace(\"'\", '')\n",
    "        word = word.replace(\"-\", '')\n",
    "        word = word.replace(\")\", '')\n",
    "        word = word.replace(\"(\", '')\n",
    "        wl = np.append(wl, len(set(word)))\n",
    "    mwl = np.append(mwl, wl.mean())\n",
    "mwl.shape"
   ]
  },
  {
   "cell_type": "code",
   "execution_count": 44,
   "metadata": {},
   "outputs": [
    {
     "data": {
      "text/plain": [
       "(3000,)"
      ]
     },
     "execution_count": 44,
     "metadata": {},
     "output_type": "execute_result"
    }
   ],
   "source": [
    "#Total - Total number of words in the song\n",
    "total = np.empty((data.shape[0],0), int)\n",
    "for i in range (0, data.shape[0]):\n",
    "    new = data.iloc[i]['lyrics'].replace('~',' ')\n",
    "    t = new.split()\n",
    "    total = np.append(total, len(t))\n",
    "total.shape"
   ]
  },
  {
   "cell_type": "code",
   "execution_count": 45,
   "metadata": {},
   "outputs": [
    {
     "data": {
      "text/html": [
       "<div>\n",
       "<style scoped>\n",
       "    .dataframe tbody tr th:only-of-type {\n",
       "        vertical-align: middle;\n",
       "    }\n",
       "\n",
       "    .dataframe tbody tr th {\n",
       "        vertical-align: top;\n",
       "    }\n",
       "\n",
       "    .dataframe thead th {\n",
       "        text-align: right;\n",
       "    }\n",
       "</style>\n",
       "<table border=\"1\" class=\"dataframe\">\n",
       "  <thead>\n",
       "    <tr style=\"text-align: right;\">\n",
       "      <th></th>\n",
       "      <th>song</th>\n",
       "      <th>artist</th>\n",
       "      <th>lyrics</th>\n",
       "      <th>genre</th>\n",
       "      <th>WPL</th>\n",
       "      <th>Unique WPL</th>\n",
       "      <th>Token ratio</th>\n",
       "      <th>Mean word length</th>\n",
       "      <th>Total</th>\n",
       "    </tr>\n",
       "  </thead>\n",
       "  <tbody>\n",
       "    <tr>\n",
       "      <th>0</th>\n",
       "      <td>most people are good</td>\n",
       "      <td>luke bryan</td>\n",
       "      <td>i believe kids oughta stay kids as long as th...</td>\n",
       "      <td>country</td>\n",
       "      <td>9</td>\n",
       "      <td>9</td>\n",
       "      <td>0.375375</td>\n",
       "      <td>3.624625</td>\n",
       "      <td>333</td>\n",
       "    </tr>\n",
       "    <tr>\n",
       "      <th>1</th>\n",
       "      <td>that's my kind of night</td>\n",
       "      <td>luke bryan</td>\n",
       "      <td>i got that real good feel good stuff~up under...</td>\n",
       "      <td>country</td>\n",
       "      <td>10</td>\n",
       "      <td>9</td>\n",
       "      <td>0.327273</td>\n",
       "      <td>3.462338</td>\n",
       "      <td>385</td>\n",
       "    </tr>\n",
       "    <tr>\n",
       "      <th>2</th>\n",
       "      <td>light it up</td>\n",
       "      <td>luke bryan</td>\n",
       "      <td>i open my eyes reach for the phone~not a word...</td>\n",
       "      <td>country</td>\n",
       "      <td>7</td>\n",
       "      <td>7</td>\n",
       "      <td>0.351974</td>\n",
       "      <td>3.299342</td>\n",
       "      <td>304</td>\n",
       "    </tr>\n",
       "    <tr>\n",
       "      <th>3</th>\n",
       "      <td>play it again</td>\n",
       "      <td>luke bryan</td>\n",
       "      <td>she was sittin all alone over on the tailgate...</td>\n",
       "      <td>country</td>\n",
       "      <td>10</td>\n",
       "      <td>9</td>\n",
       "      <td>0.327907</td>\n",
       "      <td>3.313953</td>\n",
       "      <td>430</td>\n",
       "    </tr>\n",
       "    <tr>\n",
       "      <th>4</th>\n",
       "      <td>to the moon and back</td>\n",
       "      <td>luke bryan</td>\n",
       "      <td>through the dirt and the gravel~through the y...</td>\n",
       "      <td>country</td>\n",
       "      <td>6</td>\n",
       "      <td>5</td>\n",
       "      <td>0.407216</td>\n",
       "      <td>3.587629</td>\n",
       "      <td>194</td>\n",
       "    </tr>\n",
       "  </tbody>\n",
       "</table>\n",
       "</div>"
      ],
      "text/plain": [
       "                      song       artist  \\\n",
       "0     most people are good   luke bryan   \n",
       "1  that's my kind of night   luke bryan   \n",
       "2              light it up   luke bryan   \n",
       "3            play it again   luke bryan   \n",
       "4     to the moon and back   luke bryan   \n",
       "\n",
       "                                              lyrics    genre  WPL  \\\n",
       "0   i believe kids oughta stay kids as long as th...  country    9   \n",
       "1   i got that real good feel good stuff~up under...  country   10   \n",
       "2   i open my eyes reach for the phone~not a word...  country    7   \n",
       "3   she was sittin all alone over on the tailgate...  country   10   \n",
       "4   through the dirt and the gravel~through the y...  country    6   \n",
       "\n",
       "   Unique WPL  Token ratio  Mean word length  Total  \n",
       "0           9     0.375375          3.624625    333  \n",
       "1           9     0.327273          3.462338    385  \n",
       "2           7     0.351974          3.299342    304  \n",
       "3           9     0.327907          3.313953    430  \n",
       "4           5     0.407216          3.587629    194  "
      ]
     },
     "execution_count": 45,
     "metadata": {},
     "output_type": "execute_result"
    }
   ],
   "source": [
    "data['WPL'] = wpl\n",
    "data['Unique WPL'] = upl\n",
    "data['Token ratio'] = token\n",
    "data['Mean word length'] = mwl\n",
    "data['Total'] = total\n",
    "data.head()"
   ]
  },
  {
   "cell_type": "code",
   "execution_count": 46,
   "metadata": {},
   "outputs": [],
   "source": [
    "test=data.copy()"
   ]
  },
  {
   "cell_type": "code",
   "execution_count": 47,
   "metadata": {},
   "outputs": [
    {
     "name": "stdout",
     "output_type": "stream",
     "text": [
      "3 15\n",
      "3 13\n",
      "2.692015209125475 4.85625\n"
     ]
    }
   ],
   "source": [
    "#Normalization\n",
    "#WPL\n",
    "minWPL = test.WPL.min()\n",
    "maxWPL = test.WPL.max()\n",
    "print(minWPL, maxWPL)\n",
    "test['WPL'] = (test['WPL'] - minWPL)/ (maxWPL - minWPL)\n",
    "\n",
    "#Unique WPL\n",
    "minUWPL = test['Unique WPL'].min()\n",
    "maxUWPL = test['Unique WPL'].max()\n",
    "print(minUWPL, maxUWPL)\n",
    "test['Unique WPL'] = (test['Unique WPL'] - minUWPL)/ (maxUWPL - minUWPL)\n",
    "\n",
    "#Mean word length\n",
    "minMean = test['Mean word length'].min()\n",
    "maxMean = test['Mean word length'].max()\n",
    "print(minMean, maxMean)\n",
    "test['Mean word length'] = (test['Mean word length'] - minMean)/ (maxMean - minMean)\n",
    "\n",
    "#Total\n",
    "minTot = test.Total.min()\n",
    "maxTot = test.Total.max()\n",
    "test['Total'] = (test['Total'] - minTot)/ (maxTot - minTot)"
   ]
  },
  {
   "cell_type": "code",
   "execution_count": 48,
   "metadata": {},
   "outputs": [
    {
     "data": {
      "text/html": [
       "<div>\n",
       "<style scoped>\n",
       "    .dataframe tbody tr th:only-of-type {\n",
       "        vertical-align: middle;\n",
       "    }\n",
       "\n",
       "    .dataframe tbody tr th {\n",
       "        vertical-align: top;\n",
       "    }\n",
       "\n",
       "    .dataframe thead th {\n",
       "        text-align: right;\n",
       "    }\n",
       "</style>\n",
       "<table border=\"1\" class=\"dataframe\">\n",
       "  <thead>\n",
       "    <tr style=\"text-align: right;\">\n",
       "      <th></th>\n",
       "      <th>song</th>\n",
       "      <th>artist</th>\n",
       "      <th>lyrics</th>\n",
       "      <th>genre</th>\n",
       "      <th>WPL</th>\n",
       "      <th>Unique WPL</th>\n",
       "      <th>Token ratio</th>\n",
       "      <th>Mean word length</th>\n",
       "      <th>Total</th>\n",
       "    </tr>\n",
       "  </thead>\n",
       "  <tbody>\n",
       "    <tr>\n",
       "      <th>0</th>\n",
       "      <td>most people are good</td>\n",
       "      <td>luke bryan</td>\n",
       "      <td>i believe kids oughta stay kids as long as th...</td>\n",
       "      <td>country</td>\n",
       "      <td>9</td>\n",
       "      <td>9</td>\n",
       "      <td>0.375375</td>\n",
       "      <td>3.624625</td>\n",
       "      <td>333</td>\n",
       "    </tr>\n",
       "    <tr>\n",
       "      <th>1</th>\n",
       "      <td>that's my kind of night</td>\n",
       "      <td>luke bryan</td>\n",
       "      <td>i got that real good feel good stuff~up under...</td>\n",
       "      <td>country</td>\n",
       "      <td>10</td>\n",
       "      <td>9</td>\n",
       "      <td>0.327273</td>\n",
       "      <td>3.462338</td>\n",
       "      <td>385</td>\n",
       "    </tr>\n",
       "    <tr>\n",
       "      <th>2</th>\n",
       "      <td>light it up</td>\n",
       "      <td>luke bryan</td>\n",
       "      <td>i open my eyes reach for the phone~not a word...</td>\n",
       "      <td>country</td>\n",
       "      <td>7</td>\n",
       "      <td>7</td>\n",
       "      <td>0.351974</td>\n",
       "      <td>3.299342</td>\n",
       "      <td>304</td>\n",
       "    </tr>\n",
       "    <tr>\n",
       "      <th>3</th>\n",
       "      <td>play it again</td>\n",
       "      <td>luke bryan</td>\n",
       "      <td>she was sittin all alone over on the tailgate...</td>\n",
       "      <td>country</td>\n",
       "      <td>10</td>\n",
       "      <td>9</td>\n",
       "      <td>0.327907</td>\n",
       "      <td>3.313953</td>\n",
       "      <td>430</td>\n",
       "    </tr>\n",
       "    <tr>\n",
       "      <th>4</th>\n",
       "      <td>to the moon and back</td>\n",
       "      <td>luke bryan</td>\n",
       "      <td>through the dirt and the gravel~through the y...</td>\n",
       "      <td>country</td>\n",
       "      <td>6</td>\n",
       "      <td>5</td>\n",
       "      <td>0.407216</td>\n",
       "      <td>3.587629</td>\n",
       "      <td>194</td>\n",
       "    </tr>\n",
       "  </tbody>\n",
       "</table>\n",
       "</div>"
      ],
      "text/plain": [
       "                      song       artist  \\\n",
       "0     most people are good   luke bryan   \n",
       "1  that's my kind of night   luke bryan   \n",
       "2              light it up   luke bryan   \n",
       "3            play it again   luke bryan   \n",
       "4     to the moon and back   luke bryan   \n",
       "\n",
       "                                              lyrics    genre  WPL  \\\n",
       "0   i believe kids oughta stay kids as long as th...  country    9   \n",
       "1   i got that real good feel good stuff~up under...  country   10   \n",
       "2   i open my eyes reach for the phone~not a word...  country    7   \n",
       "3   she was sittin all alone over on the tailgate...  country   10   \n",
       "4   through the dirt and the gravel~through the y...  country    6   \n",
       "\n",
       "   Unique WPL  Token ratio  Mean word length  Total  \n",
       "0           9     0.375375          3.624625    333  \n",
       "1           9     0.327273          3.462338    385  \n",
       "2           7     0.351974          3.299342    304  \n",
       "3           9     0.327907          3.313953    430  \n",
       "4           5     0.407216          3.587629    194  "
      ]
     },
     "execution_count": 48,
     "metadata": {},
     "output_type": "execute_result"
    }
   ],
   "source": [
    "data.head()"
   ]
  },
  {
   "cell_type": "code",
   "execution_count": 49,
   "metadata": {},
   "outputs": [
    {
     "data": {
      "text/html": [
       "<div>\n",
       "<style scoped>\n",
       "    .dataframe tbody tr th:only-of-type {\n",
       "        vertical-align: middle;\n",
       "    }\n",
       "\n",
       "    .dataframe tbody tr th {\n",
       "        vertical-align: top;\n",
       "    }\n",
       "\n",
       "    .dataframe thead th {\n",
       "        text-align: right;\n",
       "    }\n",
       "</style>\n",
       "<table border=\"1\" class=\"dataframe\">\n",
       "  <thead>\n",
       "    <tr style=\"text-align: right;\">\n",
       "      <th></th>\n",
       "      <th>song</th>\n",
       "      <th>artist</th>\n",
       "      <th>lyrics</th>\n",
       "      <th>genre</th>\n",
       "      <th>WPL</th>\n",
       "      <th>Unique WPL</th>\n",
       "      <th>Token ratio</th>\n",
       "      <th>Mean word length</th>\n",
       "      <th>Total</th>\n",
       "    </tr>\n",
       "  </thead>\n",
       "  <tbody>\n",
       "    <tr>\n",
       "      <th>0</th>\n",
       "      <td>most people are good</td>\n",
       "      <td>luke bryan</td>\n",
       "      <td>i believe kids oughta stay kids as long as th...</td>\n",
       "      <td>country</td>\n",
       "      <td>0.500000</td>\n",
       "      <td>0.6</td>\n",
       "      <td>0.375375</td>\n",
       "      <td>0.430919</td>\n",
       "      <td>0.151136</td>\n",
       "    </tr>\n",
       "    <tr>\n",
       "      <th>1</th>\n",
       "      <td>that's my kind of night</td>\n",
       "      <td>luke bryan</td>\n",
       "      <td>i got that real good feel good stuff~up under...</td>\n",
       "      <td>country</td>\n",
       "      <td>0.583333</td>\n",
       "      <td>0.6</td>\n",
       "      <td>0.327273</td>\n",
       "      <td>0.355933</td>\n",
       "      <td>0.175243</td>\n",
       "    </tr>\n",
       "    <tr>\n",
       "      <th>2</th>\n",
       "      <td>light it up</td>\n",
       "      <td>luke bryan</td>\n",
       "      <td>i open my eyes reach for the phone~not a word...</td>\n",
       "      <td>country</td>\n",
       "      <td>0.333333</td>\n",
       "      <td>0.4</td>\n",
       "      <td>0.351974</td>\n",
       "      <td>0.280620</td>\n",
       "      <td>0.137691</td>\n",
       "    </tr>\n",
       "    <tr>\n",
       "      <th>3</th>\n",
       "      <td>play it again</td>\n",
       "      <td>luke bryan</td>\n",
       "      <td>she was sittin all alone over on the tailgate...</td>\n",
       "      <td>country</td>\n",
       "      <td>0.583333</td>\n",
       "      <td>0.6</td>\n",
       "      <td>0.327907</td>\n",
       "      <td>0.287371</td>\n",
       "      <td>0.196106</td>\n",
       "    </tr>\n",
       "    <tr>\n",
       "      <th>4</th>\n",
       "      <td>to the moon and back</td>\n",
       "      <td>luke bryan</td>\n",
       "      <td>through the dirt and the gravel~through the y...</td>\n",
       "      <td>country</td>\n",
       "      <td>0.250000</td>\n",
       "      <td>0.2</td>\n",
       "      <td>0.407216</td>\n",
       "      <td>0.413825</td>\n",
       "      <td>0.086694</td>\n",
       "    </tr>\n",
       "  </tbody>\n",
       "</table>\n",
       "</div>"
      ],
      "text/plain": [
       "                      song       artist  \\\n",
       "0     most people are good   luke bryan   \n",
       "1  that's my kind of night   luke bryan   \n",
       "2              light it up   luke bryan   \n",
       "3            play it again   luke bryan   \n",
       "4     to the moon and back   luke bryan   \n",
       "\n",
       "                                              lyrics    genre       WPL  \\\n",
       "0   i believe kids oughta stay kids as long as th...  country  0.500000   \n",
       "1   i got that real good feel good stuff~up under...  country  0.583333   \n",
       "2   i open my eyes reach for the phone~not a word...  country  0.333333   \n",
       "3   she was sittin all alone over on the tailgate...  country  0.583333   \n",
       "4   through the dirt and the gravel~through the y...  country  0.250000   \n",
       "\n",
       "   Unique WPL  Token ratio  Mean word length     Total  \n",
       "0         0.6     0.375375          0.430919  0.151136  \n",
       "1         0.6     0.327273          0.355933  0.175243  \n",
       "2         0.4     0.351974          0.280620  0.137691  \n",
       "3         0.6     0.327907          0.287371  0.196106  \n",
       "4         0.2     0.407216          0.413825  0.086694  "
      ]
     },
     "execution_count": 49,
     "metadata": {},
     "output_type": "execute_result"
    }
   ],
   "source": [
    "test.head()"
   ]
  },
  {
   "cell_type": "code",
   "execution_count": 17,
   "metadata": {},
   "outputs": [],
   "source": [
    "# test.to_csv(r'FinalNorm.csv', index=None)"
   ]
  }
 ],
 "metadata": {
  "kernelspec": {
   "display_name": "Python 3",
   "language": "python",
   "name": "python3"
  },
  "language_info": {
   "codemirror_mode": {
    "name": "ipython",
    "version": 3
   },
   "file_extension": ".py",
   "mimetype": "text/x-python",
   "name": "python",
   "nbconvert_exporter": "python",
   "pygments_lexer": "ipython3",
   "version": "3.7.2"
  }
 },
 "nbformat": 4,
 "nbformat_minor": 2
}
